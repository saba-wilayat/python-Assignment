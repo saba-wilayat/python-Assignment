{
 "cells": [
  {
   "cell_type": "code",
   "execution_count": null,
   "metadata": {},
   "outputs": [],
   "source": [
    "import random\n",
    "def getRandonNumber():\n",
    "    return random.randint(0,9)\n",
    "RandonNumber = getRandonNumber();\n",
    "for i in range(3):\n",
    "    print(i)\n",
    "    UserInput = int(input(\"Enter A Number\"))\n",
    "    if RandonNumber == UserInput :\n",
    "        print(\"Yor Won\")\n",
    "        break;\n",
    "    if RandonNumber > UserInput :\n",
    "        print(\"Hint: hidden number is greater than \", UserInput)\n",
    "        \n",
    "    if RandonNumber < UserInput :\n",
    "        print(\"Hint: hidden number is smaller\" , UserInput)"
   ]
  },
  {
   "cell_type": "code",
   "execution_count": null,
   "metadata": {},
   "outputs": [],
   "source": []
  }
 ],
 "metadata": {
  "kernelspec": {
   "display_name": "Python 3",
   "language": "python",
   "name": "python3"
  },
  "language_info": {
   "codemirror_mode": {
    "name": "ipython",
    "version": 3
   },
   "file_extension": ".py",
   "mimetype": "text/x-python",
   "name": "python",
   "nbconvert_exporter": "python",
   "pygments_lexer": "ipython3",
   "version": "3.7.4"
  }
 },
 "nbformat": 4,
 "nbformat_minor": 2
}
