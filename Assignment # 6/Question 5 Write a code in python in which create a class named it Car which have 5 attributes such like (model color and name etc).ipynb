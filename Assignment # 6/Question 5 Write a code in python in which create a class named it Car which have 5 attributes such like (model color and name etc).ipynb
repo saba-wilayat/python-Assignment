{
 "cells": [
  {
   "cell_type": "code",
   "execution_count": 11,
   "metadata": {},
   "outputs": [
    {
     "name": "stdout",
     "output_type": "stream",
     "text": [
      "mehran\n",
      "cvic\n",
      "honda\n"
     ]
    }
   ],
   "source": [
    "class Car():\n",
    "    def __init__(self, name, model, color):\n",
    "        self.name = name   \n",
    "        self.model = model    \n",
    "        self.color = color\n",
    "intance1 = Car(\"mehran\", \"2017\", \"red\")  \n",
    "intance2 = Car(\"cvic\", \"2015\", \"black\")\n",
    "intance3 = Car(\"honda\", \"2018\", \"blue\")        \n",
    "\n",
    "print(intance1.name)\n",
    "print(intance2.name)\n",
    "print(intance3.name)"
   ]
  },
  {
   "cell_type": "code",
   "execution_count": 25,
   "metadata": {},
   "outputs": [
    {
     "name": "stdout",
     "output_type": "stream",
     "text": [
      "0\n"
     ]
    }
   ],
   "source": [
    "class Car():\n",
    "    def __init__(self, name, model, color):\n",
    "        self.name = name   \n",
    "        self.model = model    \n",
    "        self.color = color\n",
    "        self.speed = 0\n",
    "    \n",
    "    def accelerate(self,speed):\n",
    "        \"\"\" Accelerate car. \"\"\"\n",
    "        self.speed += speed\n",
    "\n",
    "    def brake(self):\n",
    "        \"\"\" Decelerate car. \"\"\"\n",
    "        self.speed -= spee\n",
    "\n",
    "    def get_speed(self):\n",
    "        \"\"\" Get current speed of car. \"\"\"\n",
    "        return self.speed\n",
    "intance1 = Car(\"mehran\", \"2017\", \"red\")  \n",
    "print(intance1.get_speed())\n"
   ]
  },
  {
   "cell_type": "code",
   "execution_count": null,
   "metadata": {},
   "outputs": [],
   "source": []
  }
 ],
 "metadata": {
  "kernelspec": {
   "display_name": "Python 3",
   "language": "python",
   "name": "python3"
  },
  "language_info": {
   "codemirror_mode": {
    "name": "ipython",
    "version": 3
   },
   "file_extension": ".py",
   "mimetype": "text/x-python",
   "name": "python",
   "nbconvert_exporter": "python",
   "pygments_lexer": "ipython3",
   "version": "3.7.4"
  }
 },
 "nbformat": 4,
 "nbformat_minor": 2
}
