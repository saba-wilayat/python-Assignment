{
 "cells": [
  {
   "cell_type": "code",
   "execution_count": 12,
   "metadata": {},
   "outputs": [
    {
     "name": "stdout",
     "output_type": "stream",
     "text": [
      "Original String :  The quick Brown Fox\n",
      "No. of Upper case characters :  3\n",
      "No. of Lower case Characters :  13\n"
     ]
    }
   ],
   "source": [
    "def string_test(string):\n",
    "    d={\"UPPERCASE\":0, \"LOWERCASE\":0}\n",
    "    for c in string:\n",
    "        if c.isupper():\n",
    "            d[\"UPPERCASE\"]+=1\n",
    "        elif c.islower():\n",
    "            d[\"LOWERCASE\"]+=1\n",
    "    print (\"Original String : \", string)\n",
    "    print (\"No. of Upper case characters : \", d[\"UPPERCASE\"])\n",
    "    print (\"No. of Lower case Characters : \", d[\"LOWERCASE\"]) \n",
    "string_test('The quick Brown Fox');"
   ]
  },
  {
   "cell_type": "code",
   "execution_count": null,
   "metadata": {},
   "outputs": [],
   "source": []
  }
 ],
 "metadata": {
  "kernelspec": {
   "display_name": "Python 3",
   "language": "python",
   "name": "python3"
  },
  "language_info": {
   "codemirror_mode": {
    "name": "ipython",
    "version": 3
   },
   "file_extension": ".py",
   "mimetype": "text/x-python",
   "name": "python",
   "nbconvert_exporter": "python",
   "pygments_lexer": "ipython3",
   "version": "3.7.4"
  }
 },
 "nbformat": 4,
 "nbformat_minor": 2
}
