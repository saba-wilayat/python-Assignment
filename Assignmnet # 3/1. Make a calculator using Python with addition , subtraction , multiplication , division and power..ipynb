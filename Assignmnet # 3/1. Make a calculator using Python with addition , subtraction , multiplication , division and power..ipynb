{
 "cells": [
  {
   "cell_type": "code",
   "execution_count": null,
   "metadata": {},
   "outputs": [],
   "source": [
    "val1 = int(input(\"Enter first number : \"));\n",
    "opr  = input(\"Enter operator : \");\n",
    "val2 = int(input(\"Enter second number : \"));\n",
    "\n",
    "if(opr == \"+\"):\n",
    "    val = val1 + val2;\n",
    "    print(\"The sum of two numbers is\", val);\n",
    "    \n",
    "if(opr == \"-\"):\n",
    "    val = val1 - val2;\n",
    "    print(\"The subtraction of two numbers is\", val);\n",
    "\n",
    "if(opr == \"*\"):\n",
    "    val = val1 * val2;\n",
    "    print(\"The multiplication of two numbers is\", val);\n",
    "\n",
    "if(opr == \"/\"):\n",
    "    val = val1 / val2;\n",
    "    print(\"The division of two numbers is\", val);    \n",
    "    \n",
    "if(opr == \"**\"):\n",
    "    val = val1 ** val2;\n",
    "    print(\"The Power of two numbers is\", val);"
   ]
  },
  {
   "cell_type": "code",
   "execution_count": null,
   "metadata": {},
   "outputs": [],
   "source": []
  }
 ],
 "metadata": {
  "kernelspec": {
   "display_name": "Python 3",
   "language": "python",
   "name": "python3"
  },
  "language_info": {
   "codemirror_mode": {
    "name": "ipython",
    "version": 3
   },
   "file_extension": ".py",
   "mimetype": "text/x-python",
   "name": "python",
   "nbconvert_exporter": "python",
   "pygments_lexer": "ipython3",
   "version": "3.7.4"
  }
 },
 "nbformat": 4,
 "nbformat_minor": 2
}
