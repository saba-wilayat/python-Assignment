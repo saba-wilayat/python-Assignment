{
 "cells": [
  {
   "cell_type": "code",
   "execution_count": 10,
   "metadata": {},
   "outputs": [
    {
     "name": "stdout",
     "output_type": "stream",
     "text": [
      "Karachi:\n",
      "country:Pakistan\n",
      "population:14.91 million\n",
      "fact:It is the Sixth largest city in the world by city population\n",
      "Lahore:\n",
      "country:Pakistan\n",
      "population:11.13 million\n",
      "fact:Lahore is the second largest city of Pakistan and the provincial capital of the Punjab\n",
      "Ialamabad:\n",
      "country:Pakistan\n",
      "population:1.015 million\n",
      "fact:Islamabad is the capital city for the Islamic Republic of Pakistan\n"
     ]
    }
   ],
   "source": [
    "dictionary_cities = {\"Karachi\" : {\"country\" : \"Pakistan\", \"population\" :\"14.91 million\", \"fact\" : \"It is the Sixth largest city in the world by city population\"},\n",
    "                    \"Lahore\" :{\"country\" : \"Pakistan\", \"population\" :\"11.13 million\", \"fact\" : \"Lahore is the second largest city of Pakistan and the provincial capital of the Punjab\"},\n",
    "                     \"Ialamabad\" :{\"country\" : \"Pakistan\", \"population\" :\"1.015 million\", \"fact\" : \"Islamabad is the capital city for the Islamic Republic of Pakistan\"}\n",
    "  \n",
    "                    }\n",
    "\n",
    "for key,value in dictionary_cities.items():\n",
    "    print(key +\":\")\n",
    "    for k,val in value.items():\n",
    "        print( k + \":\" + val)\n",
    "    "
   ]
  },
  {
   "cell_type": "code",
   "execution_count": null,
   "metadata": {},
   "outputs": [],
   "source": []
  }
 ],
 "metadata": {
  "kernelspec": {
   "display_name": "Python 3",
   "language": "python",
   "name": "python3"
  },
  "language_info": {
   "codemirror_mode": {
    "name": "ipython",
    "version": 3
   },
   "file_extension": ".py",
   "mimetype": "text/x-python",
   "name": "python",
   "nbconvert_exporter": "python",
   "pygments_lexer": "ipython3",
   "version": "3.7.4"
  }
 },
 "nbformat": 4,
 "nbformat_minor": 2
}
