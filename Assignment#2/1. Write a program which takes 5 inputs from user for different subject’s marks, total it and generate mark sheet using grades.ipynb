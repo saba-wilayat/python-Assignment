{
 "cells": [
  {
   "cell_type": "code",
   "execution_count": 15,
   "metadata": {},
   "outputs": [
    {
     "name": "stdout",
     "output_type": "stream",
     "text": [
      "Enter a Numbers of Math50\n",
      "Enter a Numbers of Science50\n",
      "Enter a Numbers of Urdu50\n",
      "Enter a Numbers of English50\n",
      "Enter a Numbers of Islamiat50\n",
      "Total Numbers 250\n",
      "percentage 50.0\n",
      "Grade C\n"
     ]
    }
   ],
   "source": [
    "a = int(input(\"Enter a Numbers of Math :\"))\n",
    "b = int(input(\"Enter a Numbers of Science :\"))\n",
    "c = int(input(\"Enter a Numbers of Urdu :\"))\n",
    "d = int(input(\"Enter a Numbers of English :\"))\n",
    "e = int(input(\"Enter a Numbers of Islamiat :\"))\n",
    "\n",
    "totalNumbers = a + b + c + d + e;\n",
    "print(\"Total Numbers\" , totalNumbers)\n",
    "percentage = (totalNumbers / 500) * 100;\n",
    "print(\"percentage\" , percentage)\n",
    "\n",
    "if(percentage >= 80 and percentage <= 100):\n",
    "    print(\"Grade\" , \"A One\")\n",
    "\n",
    "\n",
    "elif (percentage >= 60 and percentage < 80):\n",
    "      print(\"Grade\" , \"B\")\n",
    "\n",
    "elif (percentage >= 50 and percentage < 60):\n",
    "      print(\"Grade\" , \"C\")\n",
    "\n",
    "elif(percentage >= 40 and percentage < 50):\n",
    "      print(\"Grade\" , \"D\")\n",
    "\n",
    "elif(percentage <= 40):\n",
    "      print(\"Grade\" , \"Fail\")\n",
    "\n",
    "else:\n",
    "    print(\"Invalida percentage\")\n"
   ]
  },
  {
   "cell_type": "code",
   "execution_count": null,
   "metadata": {},
   "outputs": [],
   "source": []
  }
 ],
 "metadata": {
  "kernelspec": {
   "display_name": "Python 3",
   "language": "python",
   "name": "python3"
  },
  "language_info": {
   "codemirror_mode": {
    "name": "ipython",
    "version": 3
   },
   "file_extension": ".py",
   "mimetype": "text/x-python",
   "name": "python",
   "nbconvert_exporter": "python",
   "pygments_lexer": "ipython3",
   "version": "3.7.4"
  }
 },
 "nbformat": 4,
 "nbformat_minor": 2
}
