{
 "cells": [
  {
   "cell_type": "code",
   "execution_count": 16,
   "metadata": {},
   "outputs": [
    {
     "name": "stdout",
     "output_type": "stream",
     "text": [
      "The Final List [1, 3, 4, 5]\n",
      "The duplicate Values List [3, 4]\n"
     ]
    }
   ],
   "source": [
    "arr = [1,3,4,5,3,4];\n",
    "val = [];\n",
    "duplicateVal = []\n",
    "isfind = 0;\n",
    "\n",
    "for k in arr: \n",
    "    isfind = 0\n",
    "    for key in val:  \n",
    "        if(k == key):\n",
    "            duplicateVal.append(key); \n",
    "            isfind = 1;\n",
    "    if(isfind != 1):\n",
    "        val.append(k); \n",
    "            \n",
    "print(\"The Final List\" , val)     \n",
    "print(\"The duplicate Values List\" , duplicateVal) "
   ]
  },
  {
   "cell_type": "code",
   "execution_count": null,
   "metadata": {},
   "outputs": [],
   "source": []
  }
 ],
 "metadata": {
  "kernelspec": {
   "display_name": "Python 3",
   "language": "python",
   "name": "python3"
  },
  "language_info": {
   "codemirror_mode": {
    "name": "ipython",
    "version": 3
   },
   "file_extension": ".py",
   "mimetype": "text/x-python",
   "name": "python",
   "nbconvert_exporter": "python",
   "pygments_lexer": "ipython3",
   "version": "3.7.4"
  }
 },
 "nbformat": 4,
 "nbformat_minor": 2
}
