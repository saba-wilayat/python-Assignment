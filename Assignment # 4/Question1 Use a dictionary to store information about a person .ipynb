{
 "cells": [
  {
   "cell_type": "code",
   "execution_count": 11,
   "metadata": {},
   "outputs": [
    {
     "name": "stdout",
     "output_type": "stream",
     "text": [
      "first_name : Shan\n",
      "last_name : Ali\n",
      "age : 25\n",
      "city : Karachi\n"
     ]
    }
   ],
   "source": [
    "dictionary = {\"first_name\" : \"Shan\", \"last_name\" : \"Ali\",\"age\" : \"25\",\"city\" : \"Karachi\"};\n",
    "for key,value in dictionary.items():\n",
    "    print(key + \" : \" + value);\n"
   ]
  },
  {
   "cell_type": "code",
   "execution_count": 16,
   "metadata": {},
   "outputs": [
    {
     "name": "stdout",
     "output_type": "stream",
     "text": [
      "first_name : Shan\n",
      "last_name : Ali\n",
      "age : 25\n",
      "city : Karachi\n",
      "qualification : Metric\n",
      "----------After Update--------------\n",
      "first_name : Shan\n",
      "last_name : Ali\n",
      "age : 25\n",
      "city : Karachi\n",
      "qualification : Bsc\n"
     ]
    }
   ],
   "source": [
    "dictionary = {\"first_name\" : \"Shan\", \"last_name\" : \"Ali\",\"age\" : \"25\",\"city\" : \"Karachi\"};\n",
    "\n",
    "dictionary[\"qualification\"] = \"Metric\" \n",
    "\n",
    "for key,value in dictionary.items():\n",
    "    print(key + \" : \" + value);\n",
    "\n",
    "print(\"----------After Update--------------\");\n",
    "dictionary[\"qualification\"] = \"Bsc\" \n",
    "\n",
    "for key,value in dictionary.items():\n",
    "    print(key + \" : \" + value);"
   ]
  },
  {
   "cell_type": "code",
   "execution_count": 17,
   "metadata": {},
   "outputs": [
    {
     "name": "stdout",
     "output_type": "stream",
     "text": [
      "first_name : Shan\n",
      "last_name : Ali\n",
      "age : 25\n",
      "city : Karachi\n"
     ]
    }
   ],
   "source": [
    "dictionary = {\"first_name\" : \"Shan\", \"last_name\" : \"Ali\",\"age\" : \"25\",\"city\" : \"Karachi\",\"qualification\" : \"BSC\"};\n",
    "del dictionary[\"qualification\"]\n",
    "\n",
    "for key,value in dictionary.items():\n",
    "    print(key + \" : \" + value);\n",
    "\n"
   ]
  },
  {
   "cell_type": "code",
   "execution_count": null,
   "metadata": {},
   "outputs": [],
   "source": []
  }
 ],
 "metadata": {
  "kernelspec": {
   "display_name": "Python 3",
   "language": "python",
   "name": "python3"
  },
  "language_info": {
   "codemirror_mode": {
    "name": "ipython",
    "version": 3
   },
   "file_extension": ".py",
   "mimetype": "text/x-python",
   "name": "python",
   "nbconvert_exporter": "python",
   "pygments_lexer": "ipython3",
   "version": "3.7.4"
  }
 },
 "nbformat": 4,
 "nbformat_minor": 2
}
